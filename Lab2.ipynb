{
 "cells": [
  {
   "cell_type": "markdown",
   "metadata": {},
   "source": [
    "## Lab 2\n",
    "Data Structures and Algorithms\n",
    "\n",
    "Plale, John Michael P. |\n",
    "BSCPE 2-3 |\n",
    "Instructor: Engr. Godofredo Avena\n",
    "\n",
    "Date submitted: September 29, 2024"
   ]
  },
  {
   "cell_type": "markdown",
   "metadata": {},
   "source": [
    "## Exercise 1"
   ]
  },
  {
   "cell_type": "code",
   "execution_count": 7,
   "metadata": {},
   "outputs": [
    {
     "name": "stdout",
     "output_type": "stream",
     "text": [
      "3273390607896141870013189696827599152216642046043064789483291368096133796404674554883270092325904157150886684127560071009217256545885393053328527589376\n"
     ]
    }
   ],
   "source": [
    "number = input(\"Enter the exponent of 2: \")\n",
    "\n",
    "def raisedTo(number):\n",
    "  return 2 ** int(number)\n",
    "\n",
    "print(raisedTo(number))"
   ]
  },
  {
   "cell_type": "markdown",
   "metadata": {},
   "source": [
    "## Exercise 2"
   ]
  },
  {
   "cell_type": "code",
   "execution_count": 2,
   "metadata": {},
   "outputs": [
    {
     "name": "stdout",
     "output_type": "stream",
     "text": [
      "1000\n",
      "125\n",
      "1728\n"
     ]
    }
   ],
   "source": [
    "sizeArray = int(input(\"Enter the size of the array: \"))\n",
    "elements = input(\"Enter the elements separated by space: \").split()\n",
    "\n",
    "container = []\n",
    "\n",
    "for index in elements:\n",
    "  container.append(int(index))\n",
    "\n",
    "if sizeArray != len(elements):\n",
    "  print(\"Sorry, the length of the array does not matched what you've entered.\")\n",
    "\n",
    "else:\n",
    "  for index in container:\n",
    "    print(int(index) ** 3)\n"
   ]
  },
  {
   "cell_type": "markdown",
   "metadata": {},
   "source": [
    "## Exercise 3"
   ]
  },
  {
   "cell_type": "code",
   "execution_count": 3,
   "metadata": {},
   "outputs": [
    {
     "name": "stdout",
     "output_type": "stream",
     "text": [
      "xxxxxx\n",
      "x    x\n",
      "x    x\n",
      "x    x\n",
      "x    x\n",
      "xxxxxx\n"
     ]
    }
   ],
   "source": [
    "ranges = int(input(\"Enter the side length of the square: \"))\n",
    "\n",
    "for index in range(ranges):\n",
    "  if index == 0 or index == ranges - 1:\n",
    "    print('x' * ranges)\n",
    "  else:\n",
    "    print('x' + ' ' * (ranges - 2) + 'x')"
   ]
  },
  {
   "cell_type": "markdown",
   "metadata": {},
   "source": [
    "## Exercise 4"
   ]
  },
  {
   "cell_type": "code",
   "execution_count": 6,
   "metadata": {},
   "outputs": [
    {
     "name": "stdout",
     "output_type": "stream",
     "text": [
      "*************************\n",
      "************************\n",
      "***********************\n",
      "**********************\n",
      "*********************\n",
      "********************\n",
      "*******************\n",
      "******************\n",
      "*****************\n",
      "****************\n",
      "***************\n",
      "**************\n",
      "*************\n",
      "************\n",
      "***********\n",
      "**********\n",
      "*********\n",
      "********\n",
      "*******\n",
      "******\n",
      "*****\n",
      "****\n",
      "***\n",
      "**\n",
      "*\n",
      "\n"
     ]
    }
   ],
   "source": [
    "height = int(input(\"Enter the height of the triangle: \"))\n",
    "\n",
    "for index in reversed(range(height + 1)):\n",
    "  print('*' * index)"
   ]
  }
 ],
 "metadata": {
  "kernelspec": {
   "display_name": "Python 3",
   "language": "python",
   "name": "python3"
  },
  "language_info": {
   "codemirror_mode": {
    "name": "ipython",
    "version": 3
   },
   "file_extension": ".py",
   "mimetype": "text/x-python",
   "name": "python",
   "nbconvert_exporter": "python",
   "pygments_lexer": "ipython3",
   "version": "3.12.0"
  }
 },
 "nbformat": 4,
 "nbformat_minor": 2
}
